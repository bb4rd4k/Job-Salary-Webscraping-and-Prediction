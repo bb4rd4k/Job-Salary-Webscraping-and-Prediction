{
 "cells": [
  {
   "cell_type": "markdown",
   "metadata": {
    "focus": false,
    "id": "69b9a648-bcc7-490d-9f9b-ea244d156bd6"
   },
   "source": [
    "# Web Scraping for Indeed.com and Predicting Salaries"
   ]
  },
  {
   "cell_type": "markdown",
   "metadata": {},
   "source": [
    "## Introduction"
   ]
  },
  {
   "cell_type": "markdown",
   "metadata": {
    "focus": false,
    "id": "34681254-c802-462f-829d-8894d0772d08"
   },
   "source": [
    "This project was an assignment during the Data Science Immersive course I took at General Assembly. In this project, I practice two major skills: collecting data by scraping a website, and building a binary predictor with Logistic Regression.\n",
    "\n",
    "I collect salary information on data science jobs in Indeed.com using BeautifulSoup. Then, using the location, title, and summary of the job, I attempt to predict the salary of the job. I convert this problem into classification and use Logistic Regression to predict salaries."
   ]
  },
  {
   "cell_type": "markdown",
   "metadata": {
    "focus": false,
    "id": "a948d79c-5527-4c0d-ab23-f5d43ce72056"
   },
   "source": [
    "## Part 1 - Scraping job listings from Indeed.com"
   ]
  },
  {
   "cell_type": "markdown",
   "metadata": {},
   "source": [
    "The first stage involved collecting the data that models would be based on. Indeed.com was scraped for four pieces of information in each job: location, company, job, and salary."
   ]
  },
  {
   "cell_type": "markdown",
   "metadata": {
    "collapsed": true,
    "focus": false,
    "id": "e915023e-6b0d-4982-af2a-b1e0355f4927"
   },
   "source": [
    "### Import relevant libraries"
   ]
  },
  {
   "cell_type": "code",
   "execution_count": 58,
   "metadata": {
    "collapsed": true,
    "focus": false,
    "id": "2efefc73-064a-482d-b3b5-ddf5508cb4ec"
   },
   "outputs": [],
   "source": [
    "import pandas as pd\n",
    "import requests\n",
    "import bs4\n",
    "import numpy as np\n",
    "import re\n",
    "import matplotlib.pyplot as plt\n",
    "import seaborn as sns\n",
    "from bs4 import BeautifulSoup\n",
    "from scrapy.selector import Selector\n",
    "from scrapy.http import HtmlResponse\n",
    "\n",
    "\n",
    "plt.style.use('ggplot')\n",
    "\n",
    "%config InlineBackend.figure_format = 'retina'\n",
    "%matplotlib inline"
   ]
  },
  {
   "cell_type": "markdown",
   "metadata": {},
   "source": [
    "### Configure Beautiful Soup to obtain HTML from website"
   ]
  },
  {
   "cell_type": "code",
   "execution_count": null,
   "metadata": {
    "collapsed": true
   },
   "outputs": [],
   "source": [
    "URL =\"https://www.indeed.com/jobs?q=data+scientist+$20,000&l=New+York&start=60\""
   ]
  },
  {
   "cell_type": "code",
   "execution_count": 4,
   "metadata": {
    "collapsed": true,
    "focus": false,
    "id": "2c6752c4-7704-4c94-8bc0-6f13d2d0d570"
   },
   "outputs": [],
   "source": [
    "html = requests.get(URL)"
   ]
  },
  {
   "cell_type": "code",
   "execution_count": 5,
   "metadata": {
    "collapsed": true
   },
   "outputs": [],
   "source": [
    "soup = BeautifulSoup(html.text, 'html.parser')"
   ]
  },
  {
   "cell_type": "markdown",
   "metadata": {
    "focus": false,
    "id": "f1eddb90-4ba8-483c-a229-77e93aa53119"
   },
   "source": [
    "### Write 4 functions to extract each item: location, company, job, and salary.\n",
    "\n",
    "For each of these functions, I went through the HTML on the webpage to locate the labels used to categorise the data. XPath Helper was useful to do this. After that, these functions were written to automate collection."
   ]
  },
  {
   "cell_type": "code",
   "execution_count": 8,
   "metadata": {
    "collapsed": true
   },
   "outputs": [],
   "source": [
    "def extract_job_title_from_result(soup):\n",
    "    title_list = []\n",
    "    html = soup.find_all('a',class_= 'turnstileLink')\n",
    "    for element in html:\n",
    "        try:\n",
    "            title_list.append(element['title'])\n",
    "        except:\n",
    "            title_list.append(np.nan)\n",
    "    return title_list"
   ]
  },
  {
   "cell_type": "markdown",
   "metadata": {},
   "source": [
    "#### Example Use:"
   ]
  },
  {
   "cell_type": "code",
   "execution_count": 9,
   "metadata": {},
   "outputs": [
    {
     "data": {
      "text/plain": [
       "[u'Analyst, Research',\n",
       " u'Associate Research Scientist/Scholar',\n",
       " u'Machine Learning',\n",
       " u'Data Science Manager \\u2013 Premium Analytics',\n",
       " u'Image Data Scientist',\n",
       " u'Scientist (Water Ecology)',\n",
       " u'DATA SCIENCE ANALYST III',\n",
       " u'Machine Learning Engineer (Associate) - Intelligent Solutions',\n",
       " u'Data Scientist/Engineer',\n",
       " u'Sr. Field Data Scientist']"
      ]
     },
     "execution_count": 9,
     "metadata": {},
     "output_type": "execute_result"
    }
   ],
   "source": [
    "extract_job_title_from_result(soup)"
   ]
  },
  {
   "cell_type": "code",
   "execution_count": 10,
   "metadata": {
    "collapsed": true
   },
   "outputs": [],
   "source": [
    "def extract_location_from_result(soup):\n",
    "    location_list = []\n",
    "    html = soup.find_all('span',class_= 'location')\n",
    "    for element in html:\n",
    "        try:\n",
    "            location_list.append(element.contents[0])\n",
    "        except:\n",
    "            try:\n",
    "                location_list.append(element.contents)\n",
    "            except:\n",
    "                location_list.append(np.nan)\n",
    "        #try/except: If the search returns a child with more location data,\n",
    "        #only show parent, else show all (else add N/A)\n",
    "    return location_list"
   ]
  },
  {
   "cell_type": "markdown",
   "metadata": {},
   "source": [
    "#### Example Use:"
   ]
  },
  {
   "cell_type": "code",
   "execution_count": 11,
   "metadata": {},
   "outputs": [
    {
     "data": {
      "text/plain": [
       "[u'New York, NY',\n",
       " u'New York State',\n",
       " u'New York, NY',\n",
       " u'New York, NY 10011 ',\n",
       " u'New York, NY',\n",
       " u'New York, NY',\n",
       " u'New York, NY 10029 ',\n",
       " u'New York, NY 10001 ',\n",
       " u'New York, NY',\n",
       " u'New York, NY 10001 ']"
      ]
     },
     "execution_count": 11,
     "metadata": {},
     "output_type": "execute_result"
    }
   ],
   "source": [
    "extract_location_from_result(soup)"
   ]
  },
  {
   "cell_type": "code",
   "execution_count": 237,
   "metadata": {
    "collapsed": true
   },
   "outputs": [],
   "source": [
    "def extract_company_from_result(soup):\n",
    "    company_list = []\n",
    "    html = soup.find_all('div', {'data-tn-component':'organicJob'})\n",
    "    for element in html:\n",
    "        try:\n",
    "            if len(element.find('span', {'class' : 'company'}).contents[0]) > 1:\n",
    "                company_list.append(element.find('span', {'class' : 'company'}).contents[0])\n",
    "            else: \n",
    "                company_list.append(np.nan)\n",
    "        except:\n",
    "            company_list.append(np.nan)\n",
    "    return company_list"
   ]
  },
  {
   "cell_type": "markdown",
   "metadata": {},
   "source": [
    "#### Example Use:"
   ]
  },
  {
   "cell_type": "code",
   "execution_count": 238,
   "metadata": {},
   "outputs": [
    {
     "data": {
      "text/plain": [
       "[u'\\n    Info Group NW',\n",
       " u'\\n    DUNTHORPE MARKETING GROUP',\n",
       " u'\\n    roboboogie',\n",
       " u'\\n    AbSci',\n",
       " u'\\n    Amtex Enterprises Inc',\n",
       " u'\\n    Info Group NW',\n",
       " nan,\n",
       " u'\\n    PointOne Recruiting',\n",
       " u'\\n    Acumen Executive Search',\n",
       " nan]"
      ]
     },
     "execution_count": 238,
     "metadata": {},
     "output_type": "execute_result"
    }
   ],
   "source": [
    "extract_company_from_result(soup)"
   ]
  },
  {
   "cell_type": "code",
   "execution_count": 220,
   "metadata": {},
   "outputs": [
    {
     "data": {
      "text/plain": [
       "u'\\n    Info Group NW'"
      ]
     },
     "execution_count": 220,
     "metadata": {},
     "output_type": "execute_result"
    }
   ],
   "source": [
    "soup.find('span', {'class' : 'company'}).contents[0]"
   ]
  },
  {
   "cell_type": "code",
   "execution_count": 15,
   "metadata": {
    "collapsed": true
   },
   "outputs": [],
   "source": [
    "def extract_salary_from_result(soup):\n",
    "    salary_list = []\n",
    "    html = soup.find_all('div', {'data-tn-component':'organicJob'})\n",
    "    for element in html:\n",
    "        try:\n",
    "            salary_list.append(element.find('span', {'class':'no-wrap'}).text)\n",
    "        except:\n",
    "            salary_list.append(np.nan)\n",
    "    return salary_list"
   ]
  },
  {
   "cell_type": "markdown",
   "metadata": {},
   "source": [
    "### Increase collection scope from one page to all pages\n",
    "\n",
    "The previous functions so far only scrape a single page of data. In this section, a function is written which can iterate through a list of cities, obtaining a specified number of results for each city."
   ]
  },
  {
   "cell_type": "code",
   "execution_count": 17,
   "metadata": {
    "collapsed": true,
    "focus": false,
    "id": "a9aa87ec-3575-4a01-a986-eb684f2c47d0"
   },
   "outputs": [],
   "source": [
    "YOUR_CITY = 'London'"
   ]
  },
  {
   "cell_type": "code",
   "execution_count": 59,
   "metadata": {
    "collapsed": true,
    "focus": false,
    "id": "04b0f9af-540e-402f-8292-81748707c676"
   },
   "outputs": [],
   "source": [
    "url_template = \"http://www.indeed.com/jobs?q=data+scientist+%2420%2C000&l={}&start={}\"\n",
    "max_results_per_city = 990 # Set this to a high-value (5000) to generate more results. \n",
    "# Crawling more results, will also take much longer. First test your code on a small number of results and then expand.\n",
    "\n",
    "results = []\n",
    "\n",
    "for city in set(['New+York', 'Chicago', 'San+Francisco', 'Austin', 'Seattle', \n",
    "    'Los+Angeles', 'Philadelphia', 'Atlanta', 'Dallas', 'Pittsburgh', \n",
    "    'Portland', 'Phoenix', 'Denver', 'Houston', 'Miami', YOUR_CITY]):\n",
    "    for start in range(0, max_results_per_city, 10):\n",
    "        # Grab the results from the request (as above)\n",
    "        URL =url_template.format(city, start)\n",
    "        html = requests.get(URL)\n",
    "        soup = BeautifulSoup(html.text, 'html.parser')\n",
    "        # Append to the full set of results\n",
    "        results.append(soup)"
   ]
  },
  {
   "cell_type": "markdown",
   "metadata": {
    "focus": false,
    "id": "20339c09-5032-4e27-91be-286e9b46cd13"
   },
   "source": [
    "### Create a dataframe from the results with parsed data\n",
    "\n",
    "The following code takes the parsed data and inputs it into a Pandas DataFrame object"
   ]
  },
  {
   "cell_type": "code",
   "execution_count": 60,
   "metadata": {},
   "outputs": [
    {
     "data": {
      "text/plain": [
       "1584"
      ]
     },
     "execution_count": 60,
     "metadata": {},
     "output_type": "execute_result"
    }
   ],
   "source": [
    "# Check if results were scraped properly\n",
    "len(results)"
   ]
  },
  {
   "cell_type": "code",
   "execution_count": 239,
   "metadata": {
    "collapsed": true
   },
   "outputs": [],
   "source": [
    "company_list = []\n",
    "title_list = []\n",
    "location_list = []\n",
    "salary_list = []\n",
    "for n in range(len(results)):\n",
    "    company_list_temp = extract_company_from_result(results[n])\n",
    "    for i in range(len(company_list_temp)):\n",
    "        company_list.append(company_list_temp[i])\n",
    "    \n",
    "    title_list_temp = extract_job_title_from_result(results[n])\n",
    "    for i in range(len(title_list_temp)):\n",
    "        title_list.append(title_list_temp[i])\n",
    "    \n",
    "    location_list_temp = extract_location_from_result(results[n])\n",
    "    for i in range(len(location_list_temp)):\n",
    "        location_list.append(location_list_temp[i])\n",
    "        \n",
    "    salary_list_temp = extract_salary_from_result(results[n])\n",
    "    for i in range(len(salary_list_temp)):\n",
    "        salary_list.append(salary_list_temp[i])    \n"
   ]
  },
  {
   "cell_type": "code",
   "execution_count": 240,
   "metadata": {
    "collapsed": true
   },
   "outputs": [],
   "source": [
    "df = pd.DataFrame()"
   ]
  },
  {
   "cell_type": "code",
   "execution_count": 242,
   "metadata": {
    "collapsed": true
   },
   "outputs": [],
   "source": [
    "df['company'] = company_list\n",
    "df['job_title'] = title_list\n",
    "df['location'] = location_list\n",
    "df['salary'] = salary_list"
   ]
  },
  {
   "cell_type": "code",
   "execution_count": 243,
   "metadata": {
    "collapsed": true
   },
   "outputs": [],
   "source": [
    "df['salary'] = df['salary'].apply(lambda x: np.nan if x == None else x)"
   ]
  },
  {
   "cell_type": "markdown",
   "metadata": {},
   "source": [
    "### Clean the Salary Data\n",
    "\n",
    "Only a small number of scraped results have salary information. These are the ones that will be used for modelling. Only yearly salaries will be useful, so hourly data must be deleted. Duplicates must also be deleted. Salary ranges will be converted to an average."
   ]
  },
  {
   "cell_type": "markdown",
   "metadata": {},
   "source": [
    "#### Obtain only values with salary entries"
   ]
  },
  {
   "cell_type": "code",
   "execution_count": null,
   "metadata": {
    "collapsed": true,
    "focus": false,
    "id": "58533e57-f86b-494a-b841-e7b59c6229c6",
    "scrolled": true
   },
   "outputs": [],
   "source": [
    "df['salary'].value_counts()"
   ]
  },
  {
   "cell_type": "code",
   "execution_count": null,
   "metadata": {
    "collapsed": true,
    "scrolled": true
   },
   "outputs": [],
   "source": [
    "df[df['salary'].notnull()]['salary']"
   ]
  },
  {
   "cell_type": "markdown",
   "metadata": {},
   "source": [
    "#### Remove Duplicate entries"
   ]
  },
  {
   "cell_type": "code",
   "execution_count": 254,
   "metadata": {
    "collapsed": true,
    "scrolled": true
   },
   "outputs": [],
   "source": [
    "mask = df.duplicated()\n",
    "df[df[mask] == True]\n",
    "df = df[mask==False]"
   ]
  },
  {
   "cell_type": "markdown",
   "metadata": {},
   "source": [
    "#### Remove hourly and monthly salary data - only keeping yearly data"
   ]
  },
  {
   "cell_type": "code",
   "execution_count": null,
   "metadata": {
    "scrolled": false
   },
   "outputs": [],
   "source": [
    "monthmask = df[(df['salary'].isnull()==False) & (df['salary'].str.contains('month'))]\n",
    "hourmask = df[(df['salary'].isnull()==False) & (df['salary'].str.contains('hour'))]\n",
    "\n",
    "df.drop(monthmask.index, inplace=True)\n",
    "df.drop(hourmask.index, inplace=True)"
   ]
  },
  {
   "cell_type": "markdown",
   "metadata": {
    "focus": false,
    "id": "7d4bc860-b214-4f75-9cd0-b234830b1ec2"
   },
   "source": [
    "####  Write a function that takes a salary string and converts it to a number, averaging a salary range if necessary."
   ]
  },
  {
   "cell_type": "code",
   "execution_count": 260,
   "metadata": {
    "collapsed": true
   },
   "outputs": [],
   "source": [
    "def find_mean(salary_col):\n",
    "    salary_col = salary_col.encode('ascii','ignore')   \n",
    "    salary_list = salary_col.split('-')\n",
    "    \n",
    "    number_list = []\n",
    "        \n",
    "    for item in salary_list:\n",
    "        int_val = re.sub(\"[^0-9]\", \"\", item)\n",
    "        int_val = int(int_val)\n",
    "        number_list.append(int_val)\n",
    "    return(np.mean(number_list))"
   ]
  },
  {
   "cell_type": "code",
   "execution_count": null,
   "metadata": {},
   "outputs": [],
   "source": [
    "df['salary'] = df['salary'].map(find_mean, na_action = 'ignore')"
   ]
  },
  {
   "cell_type": "markdown",
   "metadata": {
    "focus": false,
    "id": "43e71edd-210e-42b1-9336-70a931f048af"
   },
   "source": [
    "### Save results as a CSV"
   ]
  },
  {
   "cell_type": "code",
   "execution_count": 263,
   "metadata": {
    "collapsed": true,
    "focus": false,
    "id": "783fd153-28ac-47ab-bfca-27e7c1de95b4"
   },
   "outputs": [],
   "source": [
    "df.to_csv('//Users/matthias/Google Drive/General Assembly/lessons-repo/projects/project-4/results', encoding = 'utf-8')"
   ]
  },
  {
   "cell_type": "markdown",
   "metadata": {
    "focus": false,
    "id": "04563b69-f7b6-466f-9d65-fc62c9ddee6a"
   },
   "source": [
    "## Part 2 - Predicting salaries using Logistic Regression"
   ]
  },
  {
   "cell_type": "markdown",
   "metadata": {
    "focus": false,
    "id": "243e949e-2742-40af-872e-fec475fd306c"
   },
   "source": [
    "### Load in the the data of scraped salaries"
   ]
  },
  {
   "cell_type": "code",
   "execution_count": 243,
   "metadata": {
    "collapsed": true,
    "focus": false,
    "id": "588f9845-6143-4bcc-bfd1-85d45b79303d",
    "scrolled": true
   },
   "outputs": [],
   "source": [
    "df_new = pd.read_csv('//Users/matthias/Google Drive/General Assembly/lessons-repo/projects/project-4/results')"
   ]
  },
  {
   "cell_type": "code",
   "execution_count": 244,
   "metadata": {
    "collapsed": true
   },
   "outputs": [],
   "source": [
    "df_new.drop('Unnamed: 0', axis=1, inplace=True)"
   ]
  },
  {
   "cell_type": "code",
   "execution_count": null,
   "metadata": {
    "collapsed": true,
    "scrolled": true
   },
   "outputs": [],
   "source": [
    "df_new['salary'].value_counts()"
   ]
  },
  {
   "cell_type": "code",
   "execution_count": 246,
   "metadata": {
    "collapsed": true
   },
   "outputs": [],
   "source": [
    "salaries = df_new['salary'].dropna()"
   ]
  },
  {
   "cell_type": "code",
   "execution_count": 247,
   "metadata": {},
   "outputs": [
    {
     "data": {
      "text/plain": [
       "array([[<matplotlib.axes._subplots.AxesSubplot object at 0x1172f4590>]], dtype=object)"
      ]
     },
     "execution_count": 247,
     "metadata": {},
     "output_type": "execute_result"
    },
    {
     "data": {
      "image/png": "[encoded data removed]",
      "text/plain": [
       "<matplotlib.figure.Figure at 0x1172f46d0>"
      ]
     },
     "metadata": {
      "image/png": {
       "height": 265,
       "width": 372
      }
     },
     "output_type": "display_data"
    }
   ],
   "source": [
    "pd.DataFrame(salaries).hist('salary')"
   ]
  },
  {
   "cell_type": "markdown",
   "metadata": {},
   "source": [
    "### Change the data to binary variables - whether the salary was low or high (above the median)"
   ]
  },
  {
   "cell_type": "code",
   "execution_count": null,
   "metadata": {
    "collapsed": true
   },
   "outputs": [],
   "source": [
    "has_sal = df_new[df_new['salary'].notnull()]"
   ]
  },
  {
   "cell_type": "markdown",
   "metadata": {},
   "source": [
    "The new, cleaned dataset is much smaller - only 324 rows instead of 1584."
   ]
  },
  {
   "cell_type": "code",
   "execution_count": 249,
   "metadata": {},
   "outputs": [
    {
     "data": {
      "text/plain": [
       "(324, 4)"
      ]
     },
     "execution_count": 249,
     "metadata": {},
     "output_type": "execute_result"
    }
   ],
   "source": [
    "has_sal.shape"
   ]
  },
  {
   "cell_type": "code",
   "execution_count": 250,
   "metadata": {
    "collapsed": true
   },
   "outputs": [],
   "source": [
    "median = np.median(has_sal['salary'])"
   ]
  },
  {
   "cell_type": "code",
   "execution_count": null,
   "metadata": {},
   "outputs": [],
   "source": [
    "has_sal['salary_binary'] = has_sal['salary'].apply(lambda x: 1 if x > median else 0)"
   ]
  },
  {
   "cell_type": "markdown",
   "metadata": {},
   "source": [
    "#### Delete numbers from location"
   ]
  },
  {
   "cell_type": "code",
   "execution_count": 254,
   "metadata": {
    "collapsed": true,
    "scrolled": true
   },
   "outputs": [],
   "source": [
    "has_sal.loc[:,'location'] = has_sal.loc[:,'location'].str.replace('\\d+', '')"
   ]
  },
  {
   "cell_type": "markdown",
   "metadata": {
    "focus": false,
    "id": "a7afb2c0-d41e-4779-8216-91cd8dd4473f"
   },
   "source": [
    "### Fit the Model"
   ]
  },
  {
   "cell_type": "code",
   "execution_count": 259,
   "metadata": {
    "collapsed": true
   },
   "outputs": [],
   "source": [
    "y = has_sal['salary_binary']"
   ]
  },
  {
   "cell_type": "code",
   "execution_count": 260,
   "metadata": {
    "collapsed": true
   },
   "outputs": [],
   "source": [
    "X = has_sal[['company','job_title','location']]"
   ]
  },
  {
   "cell_type": "code",
   "execution_count": 261,
   "metadata": {
    "collapsed": true
   },
   "outputs": [],
   "source": [
    "X_dumm = pd.get_dummies(X)"
   ]
  },
  {
   "cell_type": "code",
   "execution_count": 262,
   "metadata": {},
   "outputs": [
    {
     "data": {
      "text/plain": [
       "(324, 457)"
      ]
     },
     "execution_count": 262,
     "metadata": {},
     "output_type": "execute_result"
    }
   ],
   "source": [
    "X_dumm.shape"
   ]
  },
  {
   "cell_type": "code",
   "execution_count": null,
   "metadata": {
    "collapsed": true
   },
   "outputs": [],
   "source": [
    "from sklearn.linear_model import LogisticRegression\n",
    "logreg = LogisticRegression(C=10**10,solver='lbfgs')\n",
    "logreg.fit(X_dumm, y)"
   ]
  },
  {
   "cell_type": "markdown",
   "metadata": {
    "focus": false,
    "id": "9367beff-72ba-4768-a0ba-a50b335de61d"
   },
   "source": [
    "### Use cross-validation in scikit-learn to evaluate the model."
   ]
  },
  {
   "cell_type": "markdown",
   "metadata": {
    "focus": false,
    "id": "a7afb2c0-d41e-4779-8216-91cd8dd4473f"
   },
   "source": [
    "#### What is the baseline accuracy for this model?"
   ]
  },
  {
   "cell_type": "code",
   "execution_count": 258,
   "metadata": {},
   "outputs": [
    {
     "data": {
      "text/plain": [
       "0.5"
      ]
     },
     "execution_count": 258,
     "metadata": {},
     "output_type": "execute_result"
    }
   ],
   "source": [
    "# The baseline accuracy will be \n",
    "np.median(y)"
   ]
  },
  {
   "cell_type": "code",
   "execution_count": 263,
   "metadata": {},
   "outputs": [
    {
     "name": "stdout",
     "output_type": "stream",
     "text": [
      "[ 0.76470588  0.58823529  0.78125     0.875       0.59375     0.5         0.625\n",
      "  0.59375     0.40625     0.625     ]\n",
      "0.635294117647\n"
     ]
    }
   ],
   "source": [
    "from sklearn.model_selection import cross_val_score\n",
    "from sklearn.model_selection import cross_val_predict\n",
    "\n",
    "print(cross_val_score(logreg, X_dumm, y, cv=10))\n",
    "print(np.mean(cross_val_score(logreg, X_dumm, y, cv=10)))"
   ]
  },
  {
   "cell_type": "code",
   "execution_count": 265,
   "metadata": {
    "focus": false,
    "id": "269b9e7c-60b5-4a06-8255-881d7395bc1b",
    "scrolled": true
   },
   "outputs": [
    {
     "name": "stdout",
     "output_type": "stream",
     "text": [
      "0.651234567901\n",
      "0.651234567901\n",
      "[[124  38]\n",
      " [ 75  87]]\n",
      "             precision    recall  f1-score   support\n",
      "\n",
      "          0       0.62      0.77      0.69       162\n",
      "          1       0.70      0.54      0.61       162\n",
      "\n",
      "avg / total       0.66      0.65      0.65       324\n",
      "\n"
     ]
    }
   ],
   "source": [
    "from sklearn import metrics\n",
    "\n",
    "print(metrics.accuracy_score(y, yhat))\n",
    "print(metrics.roc_auc_score(y, yhat))\n",
    "print(metrics.confusion_matrix(y, yhat))\n",
    "print(metrics.classification_report(y, yhat))\n"
   ]
  },
  {
   "cell_type": "markdown",
   "metadata": {},
   "source": [
    "Accuracy is the correct predictions over the number of predictions. A random model would predict around the baseline (0.5 in this case).\n",
    "\n",
    "Precision predicts the tp / tp+fp\n",
    "\n",
    "Recall predicts tp / tp+fn\n",
    "\n",
    "\n",
    "In this case, as I am predicting whether salary is above or below the median. The importance of each metric would depend on the exact use case. However, both are quite important - and thus I would use accuracy as the main evaluator for my model."
   ]
  },
  {
   "cell_type": "markdown",
   "metadata": {},
   "source": [
    "### Perform Regularisation\n",
    "\n",
    "Especially given the number of variables - overfitting may be in an issue int his model. Because of this, it is useful to see if regularisation could help improve scores. The data below, however, shows that L1 Runs slightly better than L2 at standard regularisation, but no regularisation in fact has a better accuracy!"
   ]
  },
  {
   "cell_type": "markdown",
   "metadata": {},
   "source": [
    "####  L2 Regularization:"
   ]
  },
  {
   "cell_type": "code",
   "execution_count": 276,
   "metadata": {},
   "outputs": [
    {
     "data": {
      "text/plain": [
       "LogisticRegression(C=1.0, class_weight=None, dual=False, fit_intercept=True,\n",
       "          intercept_scaling=1, max_iter=100, multi_class='ovr', n_jobs=1,\n",
       "          penalty='l2', random_state=1, solver='liblinear', tol=0.0001,\n",
       "          verbose=0, warm_start=False)"
      ]
     },
     "execution_count": 276,
     "metadata": {},
     "output_type": "execute_result"
    }
   ],
   "source": [
    "logreg_l2 = LogisticRegression(penalty='l2',random_state=1)\n",
    "logreg_l2.fit(X_dumm, y)"
   ]
  },
  {
   "cell_type": "code",
   "execution_count": 277,
   "metadata": {
    "collapsed": true
   },
   "outputs": [],
   "source": [
    "yhat_l2 = cross_val_predict(logreg_l2, X_dumm, y)"
   ]
  },
  {
   "cell_type": "code",
   "execution_count": 278,
   "metadata": {
    "scrolled": true
   },
   "outputs": [
    {
     "name": "stdout",
     "output_type": "stream",
     "text": [
      "0.577160493827\n",
      "0.577160493827\n",
      "[[141  21]\n",
      " [116  46]]\n",
      "             precision    recall  f1-score   support\n",
      "\n",
      "          0       0.55      0.87      0.67       162\n",
      "          1       0.69      0.28      0.40       162\n",
      "\n",
      "avg / total       0.62      0.58      0.54       324\n",
      "\n"
     ]
    }
   ],
   "source": [
    "print(metrics.accuracy_score(y, yhat_l2))\n",
    "print(metrics.roc_auc_score(y, yhat_l2))\n",
    "print(metrics.confusion_matrix(y, yhat_l2))\n",
    "print(metrics.classification_report(y, yhat_l2))"
   ]
  },
  {
   "cell_type": "markdown",
   "metadata": {},
   "source": [
    "####  L1 Regularization:"
   ]
  },
  {
   "cell_type": "code",
   "execution_count": 279,
   "metadata": {},
   "outputs": [
    {
     "data": {
      "text/plain": [
       "LogisticRegression(C=1.0, class_weight=None, dual=False, fit_intercept=True,\n",
       "          intercept_scaling=1, max_iter=100, multi_class='ovr', n_jobs=1,\n",
       "          penalty='l1', random_state=1, solver='liblinear', tol=0.0001,\n",
       "          verbose=0, warm_start=False)"
      ]
     },
     "execution_count": 279,
     "metadata": {},
     "output_type": "execute_result"
    }
   ],
   "source": [
    "logreg_l1 = LogisticRegression(penalty='l1',random_state=1)\n",
    "logreg_l1.fit(X_dumm, y)\n"
   ]
  },
  {
   "cell_type": "code",
   "execution_count": 280,
   "metadata": {
    "collapsed": true
   },
   "outputs": [],
   "source": [
    "yhat_l1 = cross_val_predict(logreg_l1, X_dumm, y)"
   ]
  },
  {
   "cell_type": "code",
   "execution_count": 281,
   "metadata": {},
   "outputs": [
    {
     "name": "stdout",
     "output_type": "stream",
     "text": [
      "0.558641975309\n",
      "0.558641975309\n",
      "[[144  18]\n",
      " [125  37]]\n",
      "             precision    recall  f1-score   support\n",
      "\n",
      "          0       0.54      0.89      0.67       162\n",
      "          1       0.67      0.23      0.34       162\n",
      "\n",
      "avg / total       0.60      0.56      0.50       324\n",
      "\n"
     ]
    }
   ],
   "source": [
    "print(metrics.accuracy_score(y, yhat_l1))\n",
    "print(metrics.roc_auc_score(y, yhat_l1))\n",
    "print(metrics.confusion_matrix(y, yhat_l1))\n",
    "print(metrics.classification_report(y, yhat_l1))"
   ]
  },
  {
   "cell_type": "markdown",
   "metadata": {},
   "source": [
    "## Conclusion\n",
    "\n",
    "This project scraped job data, cleaned it, and then created a logistic regresion algorithm which predicts whether a job will pay above or below average salaries with 65% accuracy - with similar values for precision and recall. Given the baseline is 50%, the algorithm provides an improvement, but not an extremely accurate one. As a possible future improvement, a tokenizer could be implemented to improve the interpretation of text data."
   ]
  }
 ],
 "metadata": {
  "kernelspec": {
   "display_name": "Python 2",
   "language": "python",
   "name": "python2"
  },
  "language_info": {
   "codemirror_mode": {
    "name": "ipython",
    "version": 2
   },
   "file_extension": ".py",
   "mimetype": "text/x-python",
   "name": "python",
   "nbconvert_exporter": "python",
   "pygments_lexer": "ipython2",
   "version": "2.7.13"
  },
  "toc": {
   "nav_menu": {},
   "number_sections": false,
   "sideBar": true,
   "skip_h1_title": true,
   "toc_cell": false,
   "toc_position": {},
   "toc_section_display": "block",
   "toc_window_display": false
  }
 },
 "nbformat": 4,
 "nbformat_minor": 1
}
